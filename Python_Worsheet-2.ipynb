{
 "cells": [
  {
   "cell_type": "code",
   "execution_count": 1,
   "metadata": {},
   "outputs": [],
   "source": [
    "# import complex math Package\n",
    "import cmath"
   ]
  },
  {
   "cell_type": "code",
   "execution_count": 6,
   "metadata": {},
   "outputs": [
    {
     "name": "stdout",
     "output_type": "stream",
     "text": [
      "Type number value of a:1\n",
      "Type number value of b:2\n",
      "Type number value of c:3\n",
      "The solution are (-1-1.4142135623730951j) and (-1+1.4142135623730951j)\n"
     ]
    }
   ],
   "source": [
    "# Solve the quadratic equation 𝑎𝑥2 + bx + c = 0\n",
    "a=int(input('Type number value of a:'))\n",
    "b=int(input('Type number value of b:'))\n",
    "c=int(input('Type number value of c:'))\n",
    "# calculate the discriminant\n",
    "d = (b**2) - (4*a*c)\n",
    "# find solutions\n",
    "x = (-b-cmath.sqrt(d))/(2*a)\n",
    "y = (-b+cmath.sqrt(d))/(2*a)\n",
    "print('The solution are {0} and {1}'.format(x,y))"
   ]
  },
  {
   "cell_type": "code",
   "execution_count": 11,
   "metadata": {},
   "outputs": [
    {
     "name": "stdout",
     "output_type": "stream",
     "text": [
      "Enter the N :25\n",
      "the sum of first n: 325.0\n"
     ]
    }
   ],
   "source": [
    "#To find the sum of first ‘n’ natural numbers by useing the formula n*(n+1)/2\n",
    "n=int(input('Enter the N :'))\n",
    "print('the sum of first n:',n*(n+1)/2)"
   ]
  },
  {
   "cell_type": "code",
   "execution_count": null,
   "metadata": {},
   "outputs": [],
   "source": []
  }
 ],
 "metadata": {
  "kernelspec": {
   "display_name": "Python 3",
   "language": "python",
   "name": "python3"
  },
  "language_info": {
   "codemirror_mode": {
    "name": "ipython",
    "version": 3
   },
   "file_extension": ".py",
   "mimetype": "text/x-python",
   "name": "python",
   "nbconvert_exporter": "python",
   "pygments_lexer": "ipython3",
   "version": "3.7.4"
  }
 },
 "nbformat": 4,
 "nbformat_minor": 2
}
